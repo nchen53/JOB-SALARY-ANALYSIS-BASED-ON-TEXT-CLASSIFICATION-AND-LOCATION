{
  "cells": [
    {
      "cell_type": "code",
      "execution_count": null,
      "metadata": {
        "colab": {
          "base_uri": "https://localhost:8080/"
        },
        "id": "BbHSJGNCCun5",
        "outputId": "e4b1d175-68bb-477b-ad03-1f72e62ccd77",
        "scrolled": true
      },
      "outputs": [
        {
          "ename": "ModuleNotFoundError",
          "evalue": "No module named 'google'",
          "output_type": "error",
          "traceback": [
            "\u001b[1;31m---------------------------------------------------------------------------\u001b[0m",
            "\u001b[1;31mModuleNotFoundError\u001b[0m                       Traceback (most recent call last)",
            "\u001b[1;32m<ipython-input-2-bd6cb6371862>\u001b[0m in \u001b[0;36m<module>\u001b[1;34m\u001b[0m\n\u001b[0;32m      1\u001b[0m \u001b[1;32mimport\u001b[0m \u001b[0mwarnings\u001b[0m\u001b[1;33m\u001b[0m\u001b[1;33m\u001b[0m\u001b[0m\n\u001b[0;32m      2\u001b[0m \u001b[0mwarnings\u001b[0m\u001b[1;33m.\u001b[0m\u001b[0mfilterwarnings\u001b[0m\u001b[1;33m(\u001b[0m\u001b[1;34m'ignore'\u001b[0m\u001b[1;33m)\u001b[0m\u001b[1;33m\u001b[0m\u001b[1;33m\u001b[0m\u001b[0m\n\u001b[1;32m----> 3\u001b[1;33m \u001b[1;32mfrom\u001b[0m \u001b[0mgoogle\u001b[0m\u001b[1;33m.\u001b[0m\u001b[0mcolab\u001b[0m \u001b[1;32mimport\u001b[0m \u001b[0mdrive\u001b[0m\u001b[1;33m\u001b[0m\u001b[1;33m\u001b[0m\u001b[0m\n\u001b[0m\u001b[0;32m      4\u001b[0m \u001b[0mdrive\u001b[0m\u001b[1;33m.\u001b[0m\u001b[0mmount\u001b[0m\u001b[1;33m(\u001b[0m\u001b[1;34m'/content/drive'\u001b[0m\u001b[1;33m)\u001b[0m\u001b[1;33m\u001b[0m\u001b[1;33m\u001b[0m\u001b[0m\n",
            "\u001b[1;31mModuleNotFoundError\u001b[0m: No module named 'google'"
          ]
        }
      ],
      "source": [
        "#import warnings\n",
        "#warnings.filterwarnings('ignore')\n",
        "#from google.colab import drive\n",
        "#drive.mount('/content/drive')"
      ]
    },
    {
      "cell_type": "code",
      "execution_count": null,
      "metadata": {
        "colab": {
          "base_uri": "https://localhost:8080/"
        },
        "id": "34XtxmmIC1K4",
        "outputId": "8dc0fbeb-4e38-4e38-9bb8-48250c8d736c"
      },
      "outputs": [
        {
          "name": "stderr",
          "output_type": "stream",
          "text": [
            "[nltk_data] Downloading package stopwords to\n",
            "[nltk_data]     C:\\Users\\Irene\\AppData\\Roaming\\nltk_data...\n",
            "[nltk_data]   Package stopwords is already up-to-date!\n",
            "[nltk_data] Downloading package punkt to\n",
            "[nltk_data]     C:\\Users\\Irene\\AppData\\Roaming\\nltk_data...\n",
            "[nltk_data]   Package punkt is already up-to-date!\n"
          ]
        }
      ],
      "source": [
        "import pandas as pd # To load files and perform tasks\n",
        "import numpy as np # linear algebra\n",
        "import seaborn as sns  # data visualizations\n",
        "import matplotlib.pyplot as plt # data visualizations\n",
        "import plotly  #  interactive plotting library \n",
        "\n",
        "from wordcloud import WordCloud, ImageColorGenerator, STOPWORDS\n",
        "from nltk.corpus import stopwords\n",
        "from nltk.tokenize import word_tokenize\n",
        "from nltk.probability import FreqDist\n",
        "\n",
        "import nltk\n",
        "nltk.download('stopwords')\n",
        "nltk.download('punkt')\n",
        "\n",
        "import re"
      ]
    },
    {
      "cell_type": "code",
      "execution_count": null,
      "metadata": {
        "colab": {
          "base_uri": "https://localhost:8080/",
          "height": 367
        },
        "id": "EGYyo2KxC13l",
        "outputId": "26d9e8b0-94a0-41db-a160-77d205e7d8f0"
      },
      "outputs": [
        {
          "data": {
            "text/html": [
              "<div>\n",
              "<style scoped>\n",
              "    .dataframe tbody tr th:only-of-type {\n",
              "        vertical-align: middle;\n",
              "    }\n",
              "\n",
              "    .dataframe tbody tr th {\n",
              "        vertical-align: top;\n",
              "    }\n",
              "\n",
              "    .dataframe thead th {\n",
              "        text-align: right;\n",
              "    }\n",
              "</style>\n",
              "<table border=\"1\" class=\"dataframe\">\n",
              "  <thead>\n",
              "    <tr style=\"text-align: right;\">\n",
              "      <th></th>\n",
              "      <th>Job Title</th>\n",
              "      <th>Job Title final</th>\n",
              "      <th>Salary Estimate</th>\n",
              "      <th>Salary Estimate_low</th>\n",
              "      <th>Salary Estimate_high</th>\n",
              "      <th>Salary Estimate_average</th>\n",
              "      <th>Job Description</th>\n",
              "      <th>Rating</th>\n",
              "      <th>Company Name</th>\n",
              "      <th>Location</th>\n",
              "      <th>Headquarters</th>\n",
              "      <th>Size</th>\n",
              "      <th>Founded</th>\n",
              "      <th>Type of ownership</th>\n",
              "      <th>Industry</th>\n",
              "      <th>Sector</th>\n",
              "      <th>Revenue</th>\n",
              "      <th>Competitors</th>\n",
              "      <th>Easy Apply</th>\n",
              "    </tr>\n",
              "  </thead>\n",
              "  <tbody>\n",
              "    <tr>\n",
              "      <th>0</th>\n",
              "      <td>Data Analyst, Center on Immigration and Justic...</td>\n",
              "      <td>Data Analyst</td>\n",
              "      <td>37K-66K (Glassdoor est.)</td>\n",
              "      <td>37</td>\n",
              "      <td>66</td>\n",
              "      <td>51.5</td>\n",
              "      <td>Are you eager to roll up your sleeves and harn...</td>\n",
              "      <td>3.2</td>\n",
              "      <td>Vera Institute of Justice\\n3.2</td>\n",
              "      <td>New York, NY</td>\n",
              "      <td>New York, NY</td>\n",
              "      <td>201 to 500 employees</td>\n",
              "      <td>1961</td>\n",
              "      <td>Nonprofit Organization</td>\n",
              "      <td>Social Assistance</td>\n",
              "      <td>Non-Profit</td>\n",
              "      <td>100 to 500 million (USD)</td>\n",
              "      <td>-1</td>\n",
              "      <td>TRUE</td>\n",
              "    </tr>\n",
              "    <tr>\n",
              "      <th>1</th>\n",
              "      <td>Quality Data Analyst</td>\n",
              "      <td>Data Analyst</td>\n",
              "      <td>37K-66K (Glassdoor est.)</td>\n",
              "      <td>37</td>\n",
              "      <td>66</td>\n",
              "      <td>51.5</td>\n",
              "      <td>Overview\\n\\nProvides analytical and technical ...</td>\n",
              "      <td>3.8</td>\n",
              "      <td>Visiting Nurse Service of New York\\n3.8</td>\n",
              "      <td>New York, NY</td>\n",
              "      <td>New York, NY</td>\n",
              "      <td>10000+ employees</td>\n",
              "      <td>1893</td>\n",
              "      <td>Nonprofit Organization</td>\n",
              "      <td>Health Care Services &amp; Hospitals</td>\n",
              "      <td>Health Care</td>\n",
              "      <td>2 to 5 billion (USD)</td>\n",
              "      <td>-1</td>\n",
              "      <td>-1</td>\n",
              "    </tr>\n",
              "  </tbody>\n",
              "</table>\n",
              "</div>"
            ],
            "text/plain": [
              "                                           Job Title Job Title final  \\\n",
              "0  Data Analyst, Center on Immigration and Justic...    Data Analyst   \n",
              "1                               Quality Data Analyst    Data Analyst   \n",
              "\n",
              "            Salary Estimate Salary Estimate_low Salary Estimate_high  \\\n",
              "0  37K-66K (Glassdoor est.)                  37                   66   \n",
              "1  37K-66K (Glassdoor est.)                  37                   66   \n",
              "\n",
              "  Salary Estimate_average                                    Job Description  \\\n",
              "0                    51.5  Are you eager to roll up your sleeves and harn...   \n",
              "1                    51.5  Overview\\n\\nProvides analytical and technical ...   \n",
              "\n",
              "   Rating                             Company Name      Location  \\\n",
              "0     3.2           Vera Institute of Justice\\n3.2  New York, NY   \n",
              "1     3.8  Visiting Nurse Service of New York\\n3.8  New York, NY   \n",
              "\n",
              "   Headquarters                  Size  Founded       Type of ownership  \\\n",
              "0  New York, NY  201 to 500 employees     1961  Nonprofit Organization   \n",
              "1  New York, NY      10000+ employees     1893  Nonprofit Organization   \n",
              "\n",
              "                           Industry       Sector                   Revenue  \\\n",
              "0                 Social Assistance   Non-Profit  100 to 500 million (USD)   \n",
              "1  Health Care Services & Hospitals  Health Care      2 to 5 billion (USD)   \n",
              "\n",
              "  Competitors Easy Apply  \n",
              "0          -1       TRUE  \n",
              "1          -1         -1  "
            ]
          },
          "execution_count": 18,
          "metadata": {},
          "output_type": "execute_result"
        }
      ],
      "source": [
        "df = pd.read_csv('whole.csv')\n",
        "df.head(2)"
      ]
    },
    {
      "cell_type": "markdown",
      "metadata": {
        "id": "3hT_HfCIhGy-"
      },
      "source": [
        "## (1) Top 10 Most Frequent Skills"
      ]
    },
    {
      "cell_type": "code",
      "execution_count": null,
      "metadata": {
        "id": "TGhKEX4Q7v7T"
      },
      "outputs": [],
      "source": [
        "def skill_freq(job_descrip):\n",
        "    \n",
        "    tokens = word_tokenize(job_descrip)\n",
        "    words = [w.lower() for w in tokens]  \n",
        "    freq = FreqDist(words)\n",
        "    sorted_freq = sorted(freq.items(), key = lambda k:k[1], reverse = True) # k[1] is frequency\n",
        "    df_sorted_freq = pd.DataFrame(sorted_freq, columns = [\"Word\",\"Frequency\"]) \n",
        "    skills = ['python','sql','r','excel','tableau','bi','c','c++','java','hadoop','scala','aws', 'flask','pandas','spark','scikit',\n",
        "                      'numpy','php','mysql','css','mongdb','mango','nltk','flink','fastai','keras','pytorch','tensor','tensorflow',\n",
        "                    'linux','ruby','javascript','django','react','reactjs','ai','ui']  # list of 30+ skills\n",
        "    df_sorted_freq = df_sorted_freq[df_sorted_freq['Word'].isin(skills)].reset_index(drop=True) # Identify most frequent skills\n",
        "    return df_sorted_freq[:10] # select top 10 skills\n"
      ]
    },
    {
      "cell_type": "code",
      "execution_count": null,
      "metadata": {
        "colab": {
          "base_uri": "https://localhost:8080/",
          "height": 363
        },
        "id": "SIx1bsUAPOG_",
        "outputId": "2cca9a47-e6fa-4bb8-e405-62669ee295e5"
      },
      "outputs": [
        {
          "data": {
            "text/html": [
              "<div>\n",
              "<style scoped>\n",
              "    .dataframe tbody tr th:only-of-type {\n",
              "        vertical-align: middle;\n",
              "    }\n",
              "\n",
              "    .dataframe tbody tr th {\n",
              "        vertical-align: top;\n",
              "    }\n",
              "\n",
              "    .dataframe thead th {\n",
              "        text-align: right;\n",
              "    }\n",
              "</style>\n",
              "<table border=\"1\" class=\"dataframe\">\n",
              "  <thead>\n",
              "    <tr style=\"text-align: right;\">\n",
              "      <th></th>\n",
              "      <th>Word</th>\n",
              "      <th>Frequency</th>\n",
              "    </tr>\n",
              "  </thead>\n",
              "  <tbody>\n",
              "    <tr>\n",
              "      <th>0</th>\n",
              "      <td>sql</td>\n",
              "      <td>2997</td>\n",
              "    </tr>\n",
              "    <tr>\n",
              "      <th>1</th>\n",
              "      <td>python</td>\n",
              "      <td>2636</td>\n",
              "    </tr>\n",
              "    <tr>\n",
              "      <th>2</th>\n",
              "      <td>r</td>\n",
              "      <td>1507</td>\n",
              "    </tr>\n",
              "    <tr>\n",
              "      <th>3</th>\n",
              "      <td>aws</td>\n",
              "      <td>1168</td>\n",
              "    </tr>\n",
              "    <tr>\n",
              "      <th>4</th>\n",
              "      <td>spark</td>\n",
              "      <td>1135</td>\n",
              "    </tr>\n",
              "    <tr>\n",
              "      <th>5</th>\n",
              "      <td>tableau</td>\n",
              "      <td>858</td>\n",
              "    </tr>\n",
              "    <tr>\n",
              "      <th>6</th>\n",
              "      <td>excel</td>\n",
              "      <td>794</td>\n",
              "    </tr>\n",
              "    <tr>\n",
              "      <th>7</th>\n",
              "      <td>hadoop</td>\n",
              "      <td>787</td>\n",
              "    </tr>\n",
              "    <tr>\n",
              "      <th>8</th>\n",
              "      <td>java</td>\n",
              "      <td>772</td>\n",
              "    </tr>\n",
              "    <tr>\n",
              "      <th>9</th>\n",
              "      <td>bi</td>\n",
              "      <td>719</td>\n",
              "    </tr>\n",
              "  </tbody>\n",
              "</table>\n",
              "</div>"
            ],
            "text/plain": [
              "      Word  Frequency\n",
              "0      sql       2997\n",
              "1   python       2636\n",
              "2        r       1507\n",
              "3      aws       1168\n",
              "4    spark       1135\n",
              "5  tableau        858\n",
              "6    excel        794\n",
              "7   hadoop        787\n",
              "8     java        772\n",
              "9       bi        719"
            ]
          },
          "execution_count": 20,
          "metadata": {},
          "output_type": "execute_result"
        }
      ],
      "source": [
        "# Data Scientist\n",
        "df_ds = df[df['Job Title final'].str.contains('Data Scientist')]\n",
        "words_ds = \" \".join(df_ds['Job Description'])\n",
        "skill_freq(words_ds)"
      ]
    },
    {
      "cell_type": "code",
      "execution_count": null,
      "metadata": {
        "colab": {
          "base_uri": "https://localhost:8080/",
          "height": 363
        },
        "id": "y9dMwcbeeCbI",
        "outputId": "64e86c81-590b-49f3-81fc-2cf1b9d22a2f"
      },
      "outputs": [
        {
          "data": {
            "text/html": [
              "<div>\n",
              "<style scoped>\n",
              "    .dataframe tbody tr th:only-of-type {\n",
              "        vertical-align: middle;\n",
              "    }\n",
              "\n",
              "    .dataframe tbody tr th {\n",
              "        vertical-align: top;\n",
              "    }\n",
              "\n",
              "    .dataframe thead th {\n",
              "        text-align: right;\n",
              "    }\n",
              "</style>\n",
              "<table border=\"1\" class=\"dataframe\">\n",
              "  <thead>\n",
              "    <tr style=\"text-align: right;\">\n",
              "      <th></th>\n",
              "      <th>Word</th>\n",
              "      <th>Frequency</th>\n",
              "    </tr>\n",
              "  </thead>\n",
              "  <tbody>\n",
              "    <tr>\n",
              "      <th>0</th>\n",
              "      <td>sql</td>\n",
              "      <td>2144</td>\n",
              "    </tr>\n",
              "    <tr>\n",
              "      <th>1</th>\n",
              "      <td>python</td>\n",
              "      <td>1925</td>\n",
              "    </tr>\n",
              "    <tr>\n",
              "      <th>2</th>\n",
              "      <td>aws</td>\n",
              "      <td>1501</td>\n",
              "    </tr>\n",
              "    <tr>\n",
              "      <th>3</th>\n",
              "      <td>spark</td>\n",
              "      <td>1184</td>\n",
              "    </tr>\n",
              "    <tr>\n",
              "      <th>4</th>\n",
              "      <td>java</td>\n",
              "      <td>1082</td>\n",
              "    </tr>\n",
              "    <tr>\n",
              "      <th>5</th>\n",
              "      <td>hadoop</td>\n",
              "      <td>903</td>\n",
              "    </tr>\n",
              "    <tr>\n",
              "      <th>6</th>\n",
              "      <td>scala</td>\n",
              "      <td>493</td>\n",
              "    </tr>\n",
              "    <tr>\n",
              "      <th>7</th>\n",
              "      <td>bi</td>\n",
              "      <td>442</td>\n",
              "    </tr>\n",
              "    <tr>\n",
              "      <th>8</th>\n",
              "      <td>linux</td>\n",
              "      <td>428</td>\n",
              "    </tr>\n",
              "    <tr>\n",
              "      <th>9</th>\n",
              "      <td>tableau</td>\n",
              "      <td>363</td>\n",
              "    </tr>\n",
              "  </tbody>\n",
              "</table>\n",
              "</div>"
            ],
            "text/plain": [
              "      Word  Frequency\n",
              "0      sql       2144\n",
              "1   python       1925\n",
              "2      aws       1501\n",
              "3    spark       1184\n",
              "4     java       1082\n",
              "5   hadoop        903\n",
              "6    scala        493\n",
              "7       bi        442\n",
              "8    linux        428\n",
              "9  tableau        363"
            ]
          },
          "execution_count": 21,
          "metadata": {},
          "output_type": "execute_result"
        }
      ],
      "source": [
        "# Data Engineer\n",
        "df_de = df[df['Job Title final'].str.contains('Data Engineer')]\n",
        "words_de = \" \".join(df_de['Job Description'])\n",
        "skill_freq(words_de)"
      ]
    },
    {
      "cell_type": "code",
      "execution_count": null,
      "metadata": {
        "colab": {
          "base_uri": "https://localhost:8080/",
          "height": 363
        },
        "id": "iG7uIRgFLGMQ",
        "outputId": "765f916e-7be8-4311-fa41-a9032814fe02"
      },
      "outputs": [
        {
          "data": {
            "text/html": [
              "<div>\n",
              "<style scoped>\n",
              "    .dataframe tbody tr th:only-of-type {\n",
              "        vertical-align: middle;\n",
              "    }\n",
              "\n",
              "    .dataframe tbody tr th {\n",
              "        vertical-align: top;\n",
              "    }\n",
              "\n",
              "    .dataframe thead th {\n",
              "        text-align: right;\n",
              "    }\n",
              "</style>\n",
              "<table border=\"1\" class=\"dataframe\">\n",
              "  <thead>\n",
              "    <tr style=\"text-align: right;\">\n",
              "      <th></th>\n",
              "      <th>Word</th>\n",
              "      <th>Frequency</th>\n",
              "    </tr>\n",
              "  </thead>\n",
              "  <tbody>\n",
              "    <tr>\n",
              "      <th>0</th>\n",
              "      <td>sql</td>\n",
              "      <td>1630</td>\n",
              "    </tr>\n",
              "    <tr>\n",
              "      <th>1</th>\n",
              "      <td>excel</td>\n",
              "      <td>1396</td>\n",
              "    </tr>\n",
              "    <tr>\n",
              "      <th>2</th>\n",
              "      <td>tableau</td>\n",
              "      <td>639</td>\n",
              "    </tr>\n",
              "    <tr>\n",
              "      <th>3</th>\n",
              "      <td>bi</td>\n",
              "      <td>563</td>\n",
              "    </tr>\n",
              "    <tr>\n",
              "      <th>4</th>\n",
              "      <td>python</td>\n",
              "      <td>341</td>\n",
              "    </tr>\n",
              "    <tr>\n",
              "      <th>5</th>\n",
              "      <td>r</td>\n",
              "      <td>243</td>\n",
              "    </tr>\n",
              "    <tr>\n",
              "      <th>6</th>\n",
              "      <td>c</td>\n",
              "      <td>152</td>\n",
              "    </tr>\n",
              "    <tr>\n",
              "      <th>7</th>\n",
              "      <td>aws</td>\n",
              "      <td>135</td>\n",
              "    </tr>\n",
              "    <tr>\n",
              "      <th>8</th>\n",
              "      <td>java</td>\n",
              "      <td>132</td>\n",
              "    </tr>\n",
              "    <tr>\n",
              "      <th>9</th>\n",
              "      <td>javascript</td>\n",
              "      <td>84</td>\n",
              "    </tr>\n",
              "  </tbody>\n",
              "</table>\n",
              "</div>"
            ],
            "text/plain": [
              "         Word  Frequency\n",
              "0         sql       1630\n",
              "1       excel       1396\n",
              "2     tableau        639\n",
              "3          bi        563\n",
              "4      python        341\n",
              "5           r        243\n",
              "6           c        152\n",
              "7         aws        135\n",
              "8        java        132\n",
              "9  javascript         84"
            ]
          },
          "execution_count": 22,
          "metadata": {},
          "output_type": "execute_result"
        }
      ],
      "source": [
        "# Business Analyst\n",
        "df_ba = df[df['Job Title final'].str.contains('Business Analyst')]\n",
        "words_ba = \" \".join(df_ba['Job Description'])\n",
        "skill_freq(words_ba)"
      ]
    },
    {
      "cell_type": "code",
      "execution_count": null,
      "metadata": {
        "colab": {
          "base_uri": "https://localhost:8080/",
          "height": 363
        },
        "id": "F-q9sJyfLGmS",
        "outputId": "dd463722-e10d-4843-fbf1-69310444e8e9",
        "scrolled": true
      },
      "outputs": [
        {
          "data": {
            "text/html": [
              "<div>\n",
              "<style scoped>\n",
              "    .dataframe tbody tr th:only-of-type {\n",
              "        vertical-align: middle;\n",
              "    }\n",
              "\n",
              "    .dataframe tbody tr th {\n",
              "        vertical-align: top;\n",
              "    }\n",
              "\n",
              "    .dataframe thead th {\n",
              "        text-align: right;\n",
              "    }\n",
              "</style>\n",
              "<table border=\"1\" class=\"dataframe\">\n",
              "  <thead>\n",
              "    <tr style=\"text-align: right;\">\n",
              "      <th></th>\n",
              "      <th>Word</th>\n",
              "      <th>Frequency</th>\n",
              "    </tr>\n",
              "  </thead>\n",
              "  <tbody>\n",
              "    <tr>\n",
              "      <th>0</th>\n",
              "      <td>sql</td>\n",
              "      <td>5348</td>\n",
              "    </tr>\n",
              "    <tr>\n",
              "      <th>1</th>\n",
              "      <td>excel</td>\n",
              "      <td>3104</td>\n",
              "    </tr>\n",
              "    <tr>\n",
              "      <th>2</th>\n",
              "      <td>tableau</td>\n",
              "      <td>1936</td>\n",
              "    </tr>\n",
              "    <tr>\n",
              "      <th>3</th>\n",
              "      <td>python</td>\n",
              "      <td>1746</td>\n",
              "    </tr>\n",
              "    <tr>\n",
              "      <th>4</th>\n",
              "      <td>bi</td>\n",
              "      <td>1547</td>\n",
              "    </tr>\n",
              "    <tr>\n",
              "      <th>5</th>\n",
              "      <td>r</td>\n",
              "      <td>1268</td>\n",
              "    </tr>\n",
              "    <tr>\n",
              "      <th>6</th>\n",
              "      <td>aws</td>\n",
              "      <td>438</td>\n",
              "    </tr>\n",
              "    <tr>\n",
              "      <th>7</th>\n",
              "      <td>javascript</td>\n",
              "      <td>433</td>\n",
              "    </tr>\n",
              "    <tr>\n",
              "      <th>8</th>\n",
              "      <td>hadoop</td>\n",
              "      <td>339</td>\n",
              "    </tr>\n",
              "    <tr>\n",
              "      <th>9</th>\n",
              "      <td>java</td>\n",
              "      <td>335</td>\n",
              "    </tr>\n",
              "  </tbody>\n",
              "</table>\n",
              "</div>"
            ],
            "text/plain": [
              "         Word  Frequency\n",
              "0         sql       5348\n",
              "1       excel       3104\n",
              "2     tableau       1936\n",
              "3      python       1746\n",
              "4          bi       1547\n",
              "5           r       1268\n",
              "6         aws        438\n",
              "7  javascript        433\n",
              "8      hadoop        339\n",
              "9        java        335"
            ]
          },
          "execution_count": 23,
          "metadata": {},
          "output_type": "execute_result"
        }
      ],
      "source": [
        "# Data Analyst\n",
        "df_da = df[df['Job Title final'].str.contains('Data Analyst')]\n",
        "words_da = \" \".join(df_da['Job Description'])\n",
        "skill_freq(words_da)"
      ]
    },
    {
      "cell_type": "markdown",
      "metadata": {
        "id": "SIinb_PyhGzL"
      },
      "source": [
        "## (2) Year of Experience Required"
      ]
    },
    {
      "cell_type": "code",
      "execution_count": null,
      "metadata": {
        "id": "_RM-4kL_hGzM"
      },
      "outputs": [],
      "source": [
        "def year_of_experience(job_title, job_descrip):\n",
        "    experience_req = []\n",
        "    for t in job_descrip:\n",
        "        for sentance in t.split('\\n'):\n",
        "            if 'experience' in sentance:\n",
        "                year = re.findall(\"\\d{1,2}\\+? year\", sentance)\n",
        "                if len(year)==1:\n",
        "                    num = year[0].split(' ')\n",
        "                    experience_req.append(num[0])\n",
        "\n",
        "    # Remove the '+' sign after year value\n",
        "    for n,i in enumerate(experience_req):\n",
        "        if \"+\" in i:\n",
        "            experience_req[n] = re.sub(r'\\+','',i)\n",
        "    experience_req = [int(item) for item in experience_req]\n",
        "\n",
        "    # Remove outliers\n",
        "    for n,i in enumerate(experience_req):\n",
        "        if i >= 20:\n",
        "            experience_req.pop(n)\n",
        "            \n",
        "    # Make a plot\n",
        "    ax = plt.figure(figsize = (10,5))\n",
        "    plt.hist(experience_req,bins = list(range(0,21,2)), align = 'left')\n",
        "    plt.title(f'Experience Required for {job_title}', size = 15)\n",
        "    plt.ylabel('Bin Count')\n",
        "    plt.xlabel('Year of Expereience', size = 12)\n",
        "    plt.show()\n",
        "    \n",
        "    # Print sentence of average year of experience\n",
        "    print_sentence = print(f'The average year of experience required for {job_title} is {round(np.mean(experience_req),2)} years')\n",
        "    \n",
        "    return ax, print_sentence"
      ]
    },
    {
      "cell_type": "code",
      "execution_count": null,
      "metadata": {
        "id": "2rI7vZqHhGzN",
        "outputId": "2715ddba-7f9a-49a3-db3e-4ad60c1673ce"
      },
      "outputs": [
        {
          "data": {
            "image/png": "[encoded data removed]",
            "text/plain": [
              "<Figure size 720x360 with 1 Axes>"
            ]
          },
          "metadata": {
            "needs_background": "light"
          },
          "output_type": "display_data"
        },
        {
          "name": "stdout",
          "output_type": "stream",
          "text": [
            "The average year of experience required for Data Scientist is 4.25 years\n"
          ]
        },
        {
          "data": {
            "text/plain": [
              "(<Figure size 720x360 with 1 Axes>, None)"
            ]
          },
          "execution_count": 25,
          "metadata": {},
          "output_type": "execute_result"
        }
      ],
      "source": [
        "year_of_experience(job_title='Data Scientist',job_descrip=df_ds['Job Description'].values)"
      ]
    },
    {
      "cell_type": "code",
      "execution_count": null,
      "metadata": {
        "id": "fAQhRsqBhGzO",
        "outputId": "4df961e3-9afc-4d0b-f49d-942a2af1368d"
      },
      "outputs": [
        {
          "data": {
            "image/png": "[encoded data removed]",
            "text/plain": [
              "<Figure size 720x360 with 1 Axes>"
            ]
          },
          "metadata": {
            "needs_background": "light"
          },
          "output_type": "display_data"
        },
        {
          "name": "stdout",
          "output_type": "stream",
          "text": [
            "The average year of experience required for Data Engineer is 4.42 years\n"
          ]
        },
        {
          "data": {
            "text/plain": [
              "(<Figure size 720x360 with 1 Axes>, None)"
            ]
          },
          "execution_count": 26,
          "metadata": {},
          "output_type": "execute_result"
        }
      ],
      "source": [
        "year_of_experience('Data Engineer',df_de['Job Description'].values)"
      ]
    },
    {
      "cell_type": "code",
      "execution_count": null,
      "metadata": {
        "id": "suYi9kyQhGzP",
        "outputId": "159c8ca6-0e49-4b6b-abe1-bda8c73fb007"
      },
      "outputs": [
        {
          "data": {
            "image/png": "[encoded data removed]",
            "text/plain": [
              "<Figure size 720x360 with 1 Axes>"
            ]
          },
          "metadata": {
            "needs_background": "light"
          },
          "output_type": "display_data"
        },
        {
          "name": "stdout",
          "output_type": "stream",
          "text": [
            "The average year of experience required for Business Analyst is 4.29 years\n"
          ]
        },
        {
          "data": {
            "text/plain": [
              "(<Figure size 720x360 with 1 Axes>, None)"
            ]
          },
          "execution_count": 27,
          "metadata": {},
          "output_type": "execute_result"
        }
      ],
      "source": [
        "year_of_experience('Business Analyst',df_ba['Job Description'].values)"
      ]
    },
    {
      "cell_type": "code",
      "execution_count": null,
      "metadata": {
        "id": "rgE5vfYVhGzQ",
        "outputId": "54ac32bd-5e1c-401b-f4ab-d9690d3f23c1"
      },
      "outputs": [
        {
          "data": {
            "image/png": "[encoded data removed]",
            "text/plain": [
              "<Figure size 720x360 with 1 Axes>"
            ]
          },
          "metadata": {
            "needs_background": "light"
          },
          "output_type": "display_data"
        },
        {
          "name": "stdout",
          "output_type": "stream",
          "text": [
            "The average year of experience required for Data Analyst is 4.16 years\n"
          ]
        },
        {
          "data": {
            "text/plain": [
              "(<Figure size 720x360 with 1 Axes>, None)"
            ]
          },
          "execution_count": 28,
          "metadata": {},
          "output_type": "execute_result"
        }
      ],
      "source": [
        "year_of_experience('Data Analyst',df_da['Job Description'].values)"
      ]
    },
    {
      "cell_type": "markdown",
      "metadata": {
        "id": "lQPAxfEQhGzQ"
      },
      "source": [
        "## (3) Degree Requirement "
      ]
    },
    {
      "cell_type": "code",
      "execution_count": null,
      "metadata": {
        "id": "lnyti6PIhGzR"
      },
      "outputs": [],
      "source": [
        "def percentage_of_degree(job_title, job_descrip):\n",
        "    # Define regex pattern and seach for PhD\n",
        "    pattern = re.compile('(?i)\\WPh.?D\\W')\n",
        "    pattern2 = re.compile('(?i)\\WDoctorate\\W')\n",
        "    count = 0\n",
        "    for t in job_descrip:\n",
        "        if pattern.search(t):\n",
        "            count +=1\n",
        "        elif pattern2.search(t):\n",
        "            count +=1\n",
        "    degree = {\"PhD\": count}\n",
        "\n",
        "    # Define regex pattern and seach for Master \n",
        "    pattern = re.compile(\"(?i)\\WMasters?'?s?\\W\")\n",
        "    pattern2 = re.compile('(?i)\\WM.?S\\W')\n",
        "    count = 0\n",
        "    for t in job_descrip:\n",
        "        if pattern.search(t):\n",
        "            count +=1\n",
        "        elif pattern2.search(t):\n",
        "            count +=1\n",
        "    degree.update({\"Master\":count})\n",
        "\n",
        "    # Define regex pattern and seach for Bachelor\n",
        "    pattern = re.compile(\"(?i)\\WBachelors?'?s?\\W\")\n",
        "    pattern2 = re.compile('(?i)\\WB.?S\\W')\n",
        "    count = 0\n",
        "    for t in job_descrip:\n",
        "        if pattern.search(t):\n",
        "            count +=1\n",
        "        elif pattern2.search(t):\n",
        "            count +=1\n",
        "    degree.update({\"Bachelor\":count})\n",
        "\n",
        "    # Creat a data frame for counts and percentages\n",
        "    degree = pd.DataFrame.from_dict(degree,orient='index',\n",
        "                           columns=[ 'count'])\n",
        "    degree['ptg'] = degree['count']/len(job_descrip)\n",
        "\n",
        "    # Make a plot\n",
        "    ax =degree['ptg'].plot(kind = \"bar\", figsize =(10,5))\n",
        "    ax.set_title(f'Degree Requirement Percentage for {job_title}')\n",
        "    ax.set_xticklabels(degree.index)\n",
        "    ax.set_yticklabels(['{:.0%}'.format(x) for x in ax.get_yticks()])\n",
        "    plt.show()\n",
        "    \n",
        "    return ax"
      ]
    },
    {
      "cell_type": "code",
      "execution_count": null,
      "metadata": {
        "scrolled": true,
        "id": "HSKxO-76hGzR",
        "outputId": "38544769-fdd3-48b6-b610-c0d14d2cb5a5"
      },
      "outputs": [
        {
          "name": "stderr",
          "output_type": "stream",
          "text": [
            "<ipython-input-33-a5ed3636589d>:44: UserWarning: FixedFormatter should only be used together with FixedLocator\n",
            "  ax.set_yticklabels(['{:.0%}'.format(x) for x in ax.get_yticks()])\n"
          ]
        },
        {
          "data": {
            "image/png": "[encoded data removed]",
            "text/plain": [
              "<Figure size 720x360 with 1 Axes>"
            ]
          },
          "metadata": {
            "needs_background": "light"
          },
          "output_type": "display_data"
        },
        {
          "data": {
            "text/plain": [
              "<AxesSubplot:title={'center':'Degree Requirement Percentage for Data Scientist'}>"
            ]
          },
          "execution_count": 34,
          "metadata": {},
          "output_type": "execute_result"
        }
      ],
      "source": [
        "percentage_of_degree('Data Scientist', df_da['Job Description'].values)"
      ]
    },
    {
      "cell_type": "code",
      "execution_count": null,
      "metadata": {
        "id": "_ZzyAmMNhGzS",
        "outputId": "60c2a07a-fe0c-4c04-b535-11c8a45048be"
      },
      "outputs": [
        {
          "name": "stderr",
          "output_type": "stream",
          "text": [
            "<ipython-input-33-a5ed3636589d>:44: UserWarning: FixedFormatter should only be used together with FixedLocator\n",
            "  ax.set_yticklabels(['{:.0%}'.format(x) for x in ax.get_yticks()])\n"
          ]
        },
        {
          "data": {
            "image/png": "[encoded data removed]",
            "text/plain": [
              "<Figure size 720x360 with 1 Axes>"
            ]
          },
          "metadata": {
            "needs_background": "light"
          },
          "output_type": "display_data"
        },
        {
          "data": {
            "text/plain": [
              "<AxesSubplot:title={'center':'Degree Requirement Percentage for Data Engineer'}>"
            ]
          },
          "execution_count": 35,
          "metadata": {},
          "output_type": "execute_result"
        }
      ],
      "source": [
        "percentage_of_degree('Data Engineer', df_de['Job Description'].values)"
      ]
    },
    {
      "cell_type": "code",
      "execution_count": null,
      "metadata": {
        "id": "UmZEN_akhGzS",
        "outputId": "a0e8cfa3-9e83-4495-a579-f6009aa270c4"
      },
      "outputs": [
        {
          "name": "stderr",
          "output_type": "stream",
          "text": [
            "<ipython-input-33-a5ed3636589d>:44: UserWarning: FixedFormatter should only be used together with FixedLocator\n",
            "  ax.set_yticklabels(['{:.0%}'.format(x) for x in ax.get_yticks()])\n"
          ]
        },
        {
          "data": {
            "image/png": "[encoded data removed]",
            "text/plain": [
              "<Figure size 720x360 with 1 Axes>"
            ]
          },
          "metadata": {
            "needs_background": "light"
          },
          "output_type": "display_data"
        },
        {
          "data": {
            "text/plain": [
              "<AxesSubplot:title={'center':'Degree Requirement Percentage for Business Analyst'}>"
            ]
          },
          "execution_count": 36,
          "metadata": {},
          "output_type": "execute_result"
        }
      ],
      "source": [
        "percentage_of_degree('Business Analyst', df_ba['Job Description'].values)"
      ]
    },
    {
      "cell_type": "code",
      "execution_count": null,
      "metadata": {
        "id": "1YGus8hwhGzU",
        "outputId": "973f17ce-1f40-4aa7-c1b5-6d5d53d30a9c"
      },
      "outputs": [
        {
          "name": "stderr",
          "output_type": "stream",
          "text": [
            "<ipython-input-33-a5ed3636589d>:44: UserWarning: FixedFormatter should only be used together with FixedLocator\n",
            "  ax.set_yticklabels(['{:.0%}'.format(x) for x in ax.get_yticks()])\n"
          ]
        },
        {
          "data": {
            "image/png": "[encoded data removed]",
            "text/plain": [
              "<Figure size 720x360 with 1 Axes>"
            ]
          },
          "metadata": {
            "needs_background": "light"
          },
          "output_type": "display_data"
        },
        {
          "data": {
            "text/plain": [
              "<AxesSubplot:title={'center':'Degree Requirement Percentage for Data Analyst'}>"
            ]
          },
          "execution_count": 37,
          "metadata": {},
          "output_type": "execute_result"
        }
      ],
      "source": [
        "percentage_of_degree('Data Analyst', df_da['Job Description'].values)"
      ]
    },
    {
      "cell_type": "code",
      "execution_count": null,
      "metadata": {
        "id": "uw2GQhVDhGzU"
      },
      "outputs": [],
      "source": [
        ""
      ]
    },
    {
      "cell_type": "code",
      "execution_count": null,
      "metadata": {
        "id": "lkvRVWQDhGzV"
      },
      "outputs": [],
      "source": [
        ""
      ]
    },
    {
      "cell_type": "code",
      "execution_count": null,
      "metadata": {
        "id": "Rc1nD2ErhGzV"
      },
      "outputs": [],
      "source": [
        ""
      ]
    },
    {
      "cell_type": "code",
      "execution_count": null,
      "metadata": {
        "id": "Cv5MC59mhGzV"
      },
      "outputs": [],
      "source": [
        ""
      ]
    }
  ],
  "metadata": {
    "colab": {
      "collapsed_sections": [],
      "name": "Info Extraction.ipynb",
      "provenance": []
    },
    "kernelspec": {
      "display_name": "Python 3",
      "language": "python",
      "name": "python3"
    },
    "language_info": {
      "codemirror_mode": {
        "name": "ipython",
        "version": 3
      },
      "file_extension": ".py",
      "mimetype": "text/x-python",
      "name": "python",
      "nbconvert_exporter": "python",
      "pygments_lexer": "ipython3",
      "version": "3.8.8"
    }
  },
  "nbformat": 4,
  "nbformat_minor": 0
}